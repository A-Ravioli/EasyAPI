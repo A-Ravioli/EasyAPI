{
 "cells": [
  {
   "cell_type": "markdown",
   "metadata": {},
   "source": [
    "## **EasyAPI.ipynb**\n",
    "##### *Because testing in python files is for nerds and totally not because I have an AI/DS background*\n",
    "\n",
    "Trying to making backend development easier"
   ]
  },
  {
   "cell_type": "code",
   "execution_count": 4,
   "metadata": {},
   "outputs": [],
   "source": [
    "from EasyAPI.app import EasyAPI\n",
    "from EasyAPI.response import Response"
   ]
  },
  {
   "cell_type": "code",
   "execution_count": 5,
   "metadata": {},
   "outputs": [],
   "source": [
    "def home_route(request):\n",
    "    \"\"\"\n",
    "    A simple route that returns a welcome message.\n",
    "    \"\"\"\n",
    "    return Response(\"Welcome to EasyAPI! 🚀\")\n",
    "\n",
    "def hello_route(request):\n",
    "    \"\"\"\n",
    "    A route that returns a greeting message.\n",
    "    \"\"\"\n",
    "    return Response(\"Hello, world! 👋\")\n",
    "\n",
    "def echo_route(request):\n",
    "    \"\"\"\n",
    "    A route that echoes back the user's input.\n",
    "    \"\"\"\n",
    "    user_input = request.get('message', '')\n",
    "    return Response(f\"You said: {user_input}\")\n",
    "\n",
    "def post_data_route(request):\n",
    "    \"\"\"\n",
    "    A route that handles POST requests and returns the posted data.\n",
    "    \"\"\"\n",
    "    posted_data = request.get('data', '')\n",
    "    return Response(f\"Data received: {posted_data}\")"
   ]
  },
  {
   "cell_type": "code",
   "execution_count": 6,
   "metadata": {},
   "outputs": [
    {
     "name": "stderr",
     "output_type": "stream",
     "text": [
      "INFO:EasyAPI:Route added: / [GET]\n",
      "INFO:EasyAPI:Route added: /hello [GET]\n",
      "INFO:EasyAPI:Route added: /echo [GET]\n",
      "INFO:EasyAPI:Route added: /post_data [POST]\n"
     ]
    }
   ],
   "source": [
    "app = EasyAPI()\n",
    "\n",
    "app.add_route('/', home_route)\n",
    "app.add_route('/hello', hello_route)\n",
    "app.add_route('/echo', echo_route)\n",
    "app.add_route('/post_data', post_data_route, methods=['POST'])"
   ]
  },
  {
   "cell_type": "code",
   "execution_count": 7,
   "metadata": {},
   "outputs": [
    {
     "name": "stdout",
     "output_type": "stream",
     "text": [
      "Welcome to EasyAPI! 🚀\n",
      "Hello, world! 👋\n",
      "You said: \n",
      "Data received: \n"
     ]
    }
   ],
   "source": [
    "# Simulate a request to the home route\n",
    "response = app.routes[('/', 'GET')]({})\n",
    "print(response.content.decode())  # Output: \"Welcome to EasyAPI! 🚀\"\n",
    "\n",
    "# Simulate a request to the hello route\n",
    "response = app.routes[('/hello', 'GET')]({})\n",
    "print(response.content.decode())  # Output: \"Hello, world! 👋\"\n",
    "\n",
    "# Simulate a request to the echo route with a query parameter\n",
    "request_with_query = {'QUERY_STRING': 'message=Hello+EasyAPI'}\n",
    "response = app.routes[('/echo', 'GET')](request_with_query)\n",
    "print(response.content.decode())  # Output: \"You said: Hello EasyAPI\"\n",
    "\n",
    "# Simulate a POST request to the post_data route\n",
    "request_with_body = {'wsgi.input': b'This is some data.', 'CONTENT_LENGTH': '18'}\n",
    "response = app.routes[('/post_data', 'POST')](request_with_body)\n",
    "print(response.content.decode())  # Output: \"Data received: This is some data.\""
   ]
  },
  {
   "cell_type": "code",
   "execution_count": null,
   "metadata": {},
   "outputs": [],
   "source": [
    "print(\"EasyAPI makes web development easy and fun! 🎉\")"
   ]
  },
  {
   "cell_type": "markdown",
   "metadata": {},
   "source": [
    "Done right?"
   ]
  },
  {
   "cell_type": "markdown",
   "metadata": {},
   "source": [
    "##### ..."
   ]
  },
  {
   "cell_type": "markdown",
   "metadata": {},
   "source": [
    "### ..."
   ]
  },
  {
   "cell_type": "markdown",
   "metadata": {},
   "source": [
    "# ..."
   ]
  },
  {
   "cell_type": "markdown",
   "metadata": {},
   "source": [
    "## right?"
   ]
  },
  {
   "cell_type": "markdown",
   "metadata": {},
   "source": [
    "# WRONG"
   ]
  },
  {
   "cell_type": "markdown",
   "metadata": {},
   "source": [
    "# Rabbit hole below 👇"
   ]
  },
  {
   "cell_type": "code",
   "execution_count": null,
   "metadata": {},
   "outputs": [],
   "source": [
    "from EasyAPI.app import EasyAPI\n",
    "from EasyAPI.response import Response\n",
    "from EasyAPI.services.oauth import OAuthService\n",
    "from EasyAPI.services.payment import StripePaymentService\n",
    "from EasyAPI.services.cache import CacheService\n",
    "from EasyAPI.services.task_queue import TaskQueueService"
   ]
  },
  {
   "cell_type": "code",
   "execution_count": null,
   "metadata": {},
   "outputs": [],
   "source": [
    "oauth_service = OAuthService(\n",
    "    provider='google',\n",
    "    client_id='your-client-id',\n",
    "    client_secret='your-client-secret',\n",
    "    redirect_uri='http://localhost:5000/callback'\n",
    ")\n",
    "\n",
    "payment_service = StripePaymentService(api_key='your-stripe-api-key')\n",
    "\n",
    "cache_service = CacheService(provider='redis', host='localhost', port=6379, db=0)\n",
    "\n",
    "task_queue_service = TaskQueueService(broker_url='redis://localhost:6379/0', backend_url='redis://localhost:6379/1')"
   ]
  },
  {
   "cell_type": "code",
   "execution_count": null,
   "metadata": {},
   "outputs": [],
   "source": [
    "def home_route(request):\n",
    "    return Response(\"Welcome to EasyAPI! 🚀\")\n",
    "\n",
    "def create_payment_route(request):\n",
    "    payment_intent = payment_service.create_payment_intent(amount=1000)  # $10.00\n",
    "    return Response(f\"PaymentIntent created with ID: {payment_intent['id']}\")\n",
    "\n",
    "def cache_data_route(request):\n",
    "    data = cache_service.get('demo_data')\n",
    "    if not data:\n",
    "        data = \"This is cached data!\"\n",
    "        cache_service.set('demo_data', data, expiration=60)  # Cache for 60 seconds\n",
    "    return Response(data)\n",
    "\n",
    "def start_task_route(request):\n",
    "    task_id = task_queue_service.add_task('routes.long_running_task', 'example_data')\n",
    "    return Response(f\"Task started with ID: {task_id}\")"
   ]
  },
  {
   "cell_type": "code",
   "execution_count": null,
   "metadata": {},
   "outputs": [],
   "source": [
    "app = EasyAPI()\n",
    "\n",
    "app.add_route('/', home_route)\n",
    "app.add_route('/create_payment', create_payment_route, methods=['POST'])\n",
    "app.add_route('/cache_data', cache_data_route, methods=['GET'])\n",
    "app.add_route('/start_task', start_task_route, methods=['POST'])"
   ]
  },
  {
   "cell_type": "code",
   "execution_count": null,
   "metadata": {},
   "outputs": [],
   "source": [
    "# Simulate a request to the home route\n",
    "response = app.routes[('/', 'GET')]({})\n",
    "print(response.body.decode())  # Output: \"Welcome to EasyAPI! 🚀\"\n",
    "\n",
    "# Simulate a request to create a payment\n",
    "response = app.routes[('/create_payment', 'POST')]({})\n",
    "print(response.body.decode())  # Output: \"PaymentIntent created with ID: pi_xxxxx\"\n",
    "\n",
    "# Simulate a request to cache data\n",
    "response = app.routes[('/cache_data', 'GET')]({})\n",
    "print(response.body.decode())  # Output: \"This is cached data!\"\n",
    "\n",
    "# Simulate a request to start a task\n",
    "response = app.routes[('/start_task', 'POST')]({})\n",
    "print(response.body.decode())  # Output: \"Task started with ID: task_xxxxx\""
   ]
  }
 ],
 "metadata": {
  "kernelspec": {
   "display_name": "veridian",
   "language": "python",
   "name": "python3"
  },
  "language_info": {
   "codemirror_mode": {
    "name": "ipython",
    "version": 3
   },
   "file_extension": ".py",
   "mimetype": "text/x-python",
   "name": "python",
   "nbconvert_exporter": "python",
   "pygments_lexer": "ipython3",
   "version": "3.12.4"
  }
 },
 "nbformat": 4,
 "nbformat_minor": 2
}
